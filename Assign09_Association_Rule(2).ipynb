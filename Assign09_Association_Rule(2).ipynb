{
  "nbformat": 4,
  "nbformat_minor": 0,
  "metadata": {
    "colab": {
      "name": "Assign09_Association Rule(2).ipynb",
      "provenance": [],
      "collapsed_sections": [],
      "authorship_tag": "ABX9TyNDNjvO/p4/cMZ+DtN+RYYF",
      "include_colab_link": true
    },
    "kernelspec": {
      "name": "python3",
      "display_name": "Python 3"
    },
    "language_info": {
      "name": "python"
    }
  },
  "cells": [
    {
      "cell_type": "markdown",
      "metadata": {
        "id": "view-in-github",
        "colab_type": "text"
      },
      "source": [
        "<a href=\"https://colab.research.google.com/github/revati2013/Assignment09_Association-Rules/blob/main/Assign09_Association_Rule(2).ipynb\" target=\"_parent\"><img src=\"https://colab.research.google.com/assets/colab-badge.svg\" alt=\"Open In Colab\"/></a>"
      ]
    },
    {
      "cell_type": "code",
      "execution_count": null,
      "metadata": {
        "id": "x6NfamO0LtiN"
      },
      "outputs": [],
      "source": [
        "# Import Libraries\n",
        "import pandas as pd\n",
        "import numpy as np\n",
        "import matplotlib.pyplot as plt\n",
        "import seaborn as sns\n",
        "from mlxtend.frequent_patterns import apriori,association_rules\n",
        "from mlxtend.preprocessing import TransactionEncoder"
      ]
    },
    {
      "cell_type": "code",
      "source": [
        "data=pd.read_csv('book.csv' ,encoding='latin-1')"
      ],
      "metadata": {
        "id": "SQtmeNoexB7Y"
      },
      "execution_count": null,
      "outputs": []
    },
    {
      "cell_type": "code",
      "source": [
        "data"
      ],
      "metadata": {
        "id": "3rMYN21ixdu8"
      },
      "execution_count": null,
      "outputs": []
    },
    {
      "cell_type": "markdown",
      "source": [
        "#EDA"
      ],
      "metadata": {
        "id": "vazNmGeepOmy"
      }
    },
    {
      "cell_type": "code",
      "source": [
        "data.info()"
      ],
      "metadata": {
        "id": "UvytsOVmya-j"
      },
      "execution_count": null,
      "outputs": []
    },
    {
      "cell_type": "code",
      "source": [
        "data.shape"
      ],
      "metadata": {
        "id": "AXB7tWJNpT3d"
      },
      "execution_count": null,
      "outputs": []
    },
    {
      "cell_type": "markdown",
      "source": [
        "#Data Visualization"
      ],
      "metadata": {
        "id": "WRnsU9wOpdZx"
      }
    },
    {
      "cell_type": "code",
      "source": [
        "movie_count = []\n",
        "col_names = data.columns\n",
        "for col_name in col_names:\n",
        "    movie_count.append(data[col_name].value_counts() [1])\n",
        "    \n",
        "plt.figure(figsize=(10, 8), dpi=80)    \n",
        "plt.bar(col_names, movie_count)"
      ],
      "metadata": {
        "id": "4obiGt9KqyNA"
      },
      "execution_count": null,
      "outputs": []
    },
    {
      "cell_type": "markdown",
      "source": [
        "#Apriori Algorithm for min_support = 0.1"
      ],
      "metadata": {
        "id": "_Cle84DUrkcp"
      }
    },
    {
      "cell_type": "code",
      "source": [
        "frequent_itemsets1 = apriori(data, min_support=0.1, use_colnames=True)\n",
        "frequent_itemsets1 "
      ],
      "metadata": {
        "id": "4sjAF1-MrISB"
      },
      "execution_count": null,
      "outputs": []
    },
    {
      "cell_type": "code",
      "source": [
        "frequent_itemsets1 = apriori(data, min_support = 0.1, use_colnames=True)\n",
        "frequent_itemsets1['length'] = frequent_itemsets1['itemsets'].apply(lambda x: len(x))\n",
        "frequent_itemsets1"
      ],
      "metadata": {
        "id": "oSeuPlywrlul"
      },
      "execution_count": null,
      "outputs": []
    },
    {
      "cell_type": "markdown",
      "source": [
        "#Rules when min_support = 0.1 and min_threshold for lift is 0.5"
      ],
      "metadata": {
        "id": "C42Bnhq0r24t"
      }
    },
    {
      "cell_type": "code",
      "source": [
        "rules1 = association_rules(frequent_itemsets1, metric=\"lift\", min_threshold=0.5)\n",
        "rules1"
      ],
      "metadata": {
        "id": "O3p_WadgrtEd"
      },
      "execution_count": null,
      "outputs": []
    },
    {
      "cell_type": "code",
      "source": [
        "rules1.sort_values('lift',ascending = False)"
      ],
      "metadata": {
        "id": "01j-f4vvr4I6"
      },
      "execution_count": null,
      "outputs": []
    },
    {
      "cell_type": "code",
      "source": [
        "plt.scatter(rules1['support'], rules1['confidence'], alpha=0.5)\n",
        "plt.xlabel('support')\n",
        "plt.ylabel('confidence')\n",
        "plt.title('Support vs Confidence')\n",
        "plt.show()"
      ],
      "metadata": {
        "id": "phrlYRmLr8HV"
      },
      "execution_count": null,
      "outputs": []
    },
    {
      "cell_type": "markdown",
      "source": [
        "#Rules when min_support = 0.1 and min_threshold for confidence is 0.5"
      ],
      "metadata": {
        "id": "Os9jshh0sIQx"
      }
    },
    {
      "cell_type": "code",
      "source": [
        "rules2 = association_rules(frequent_itemsets1, metric=\"confidence\", min_threshold=0.5)\n",
        "rules2"
      ],
      "metadata": {
        "id": "390-vXrSsAEE"
      },
      "execution_count": null,
      "outputs": []
    },
    {
      "cell_type": "code",
      "source": [
        "rules2 = rules2.sort_values(['confidence', 'lift'], ascending =[False, False])\n",
        "rules2"
      ],
      "metadata": {
        "id": "uMUv-4wasJZx"
      },
      "execution_count": null,
      "outputs": []
    },
    {
      "cell_type": "code",
      "source": [
        "plt.scatter(rules2['support'], rules2['confidence'], alpha=0.5)\n",
        "plt.xlabel('support')\n",
        "plt.ylabel('confidence')\n",
        "plt.title('Support vs Confidence')\n",
        "plt.show()"
      ],
      "metadata": {
        "id": "aWpBGwPLsPmf"
      },
      "execution_count": null,
      "outputs": []
    },
    {
      "cell_type": "markdown",
      "source": [
        "#Apriori Algorithm for min_support = 0.2"
      ],
      "metadata": {
        "id": "wILNaCKGsf9C"
      }
    },
    {
      "cell_type": "code",
      "source": [
        "frequent_itemsets2 = apriori(data, min_support=0.2, use_colnames=True)\n",
        "frequent_itemsets2"
      ],
      "metadata": {
        "id": "BB788AupsaHM"
      },
      "execution_count": null,
      "outputs": []
    },
    {
      "cell_type": "code",
      "source": [
        "frequent_itemsets2 = apriori(data, min_support = 0.2, use_colnames=True)\n",
        "frequent_itemsets2['length'] = frequent_itemsets2['itemsets'].apply(lambda x: len(x))\n",
        "frequent_itemsets2"
      ],
      "metadata": {
        "id": "LGW7EY2rshPh"
      },
      "execution_count": null,
      "outputs": []
    },
    {
      "cell_type": "markdown",
      "source": [
        "#Rules when min_support = 0.2 and min_threshold for lift is 0.5"
      ],
      "metadata": {
        "id": "PtY_6PQFssEH"
      }
    },
    {
      "cell_type": "code",
      "source": [
        "rules3 = association_rules(frequent_itemsets2, metric=\"lift\", min_threshold=0.1)\n",
        "rules3"
      ],
      "metadata": {
        "id": "N_icjyxpskb0"
      },
      "execution_count": null,
      "outputs": []
    },
    {
      "cell_type": "code",
      "source": [
        "plt.scatter(rules3['support'], rules3['confidence'], alpha=0.5)\n",
        "plt.xlabel('support')\n",
        "plt.ylabel('confidence')\n",
        "plt.title('Support vs Confidence')\n",
        "plt.show()"
      ],
      "metadata": {
        "id": "3mXFCEKvstOT"
      },
      "execution_count": null,
      "outputs": []
    },
    {
      "cell_type": "markdown",
      "source": [
        "#Rules when min_support = 0.1 and min_threshold for confidence is 0.5"
      ],
      "metadata": {
        "id": "_0CW7S-9s6NC"
      }
    },
    {
      "cell_type": "code",
      "source": [
        "rules4 = association_rules(frequent_itemsets2, metric=\"confidence\", min_threshold=0.5)\n",
        "rules4"
      ],
      "metadata": {
        "id": "XrQKqOCQsyH-"
      },
      "execution_count": null,
      "outputs": []
    },
    {
      "cell_type": "code",
      "source": [
        "rules4 = rules4.sort_values(['confidence', 'lift'], ascending =[False, False])\n",
        "rules4"
      ],
      "metadata": {
        "id": "nst8Fo-ls8K9"
      },
      "execution_count": null,
      "outputs": []
    },
    {
      "cell_type": "code",
      "source": [
        "plt.scatter(rules4['support'], rules4['confidence'], alpha=0.5)\n",
        "plt.xlabel('support')\n",
        "plt.ylabel('confidence')\n",
        "plt.title('Support vs Confidence')\n",
        "plt.show()"
      ],
      "metadata": {
        "id": "b7QdUNqYtBNg"
      },
      "execution_count": null,
      "outputs": []
    },
    {
      "cell_type": "code",
      "source": [
        ""
      ],
      "metadata": {
        "id": "SDvG_kMZtIuP"
      },
      "execution_count": null,
      "outputs": []
    }
  ]
}