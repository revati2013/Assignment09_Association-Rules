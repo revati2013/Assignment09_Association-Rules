{
  "nbformat": 4,
  "nbformat_minor": 0,
  "metadata": {
    "colab": {
      "name": "Assign09-Association Rule(1).ipynb",
      "provenance": [],
      "collapsed_sections": [],
      "authorship_tag": "ABX9TyNunKNSKBkaShN3cJgwLgdo",
      "include_colab_link": true
    },
    "kernelspec": {
      "name": "python3",
      "display_name": "Python 3"
    },
    "language_info": {
      "name": "python"
    }
  },
  "cells": [
    {
      "cell_type": "markdown",
      "metadata": {
        "id": "view-in-github",
        "colab_type": "text"
      },
      "source": [
        "<a href=\"https://colab.research.google.com/github/revati2013/Assignment09_Association-Rules/blob/main/Assign09_Association_Rule(1).ipynb\" target=\"_parent\"><img src=\"https://colab.research.google.com/assets/colab-badge.svg\" alt=\"Open In Colab\"/></a>"
      ]
    },
    {
      "cell_type": "code",
      "execution_count": null,
      "metadata": {
        "id": "i4tp2aPKlUfE"
      },
      "outputs": [],
      "source": [
        "# Import Libraries\n",
        "import pandas as pd\n",
        "import numpy as np\n",
        "import matplotlib.pyplot as plt\n",
        "import seaborn as sns\n",
        "from mlxtend.frequent_patterns import apriori,association_rules\n",
        "from mlxtend.preprocessing import TransactionEncoder"
      ]
    },
    {
      "cell_type": "code",
      "source": [
        "movie=pd.read_csv('my_movies.csv')\n",
        "movie"
      ],
      "metadata": {
        "id": "aeWitQ68lbAk"
      },
      "execution_count": null,
      "outputs": []
    },
    {
      "cell_type": "markdown",
      "source": [
        "#EDA"
      ],
      "metadata": {
        "id": "ivT52kM6Zv6T"
      }
    },
    {
      "cell_type": "code",
      "source": [
        "movie.shape"
      ],
      "metadata": {
        "id": "BV7pX0scl4CE"
      },
      "execution_count": null,
      "outputs": []
    },
    {
      "cell_type": "code",
      "source": [
        "movie.info()"
      ],
      "metadata": {
        "id": "JfHtSKq9mL4r"
      },
      "execution_count": null,
      "outputs": []
    },
    {
      "cell_type": "code",
      "source": [
        "movie.describe()"
      ],
      "metadata": {
        "id": "MgmLwxhzaXya"
      },
      "execution_count": null,
      "outputs": []
    },
    {
      "cell_type": "code",
      "source": [
        "movie.isna().sum()"
      ],
      "metadata": {
        "id": "X5BcNi2rhQ84"
      },
      "execution_count": null,
      "outputs": []
    },
    {
      "cell_type": "markdown",
      "source": [
        "#Data Preprocessing"
      ],
      "metadata": {
        "id": "GW-AGexehZSx"
      }
    },
    {
      "cell_type": "code",
      "source": [
        "movie=movie.drop(['V1', 'V2', 'V3', 'V4', 'V5'], axis = 1)\n",
        "movie.head()"
      ],
      "metadata": {
        "id": "K8eGXWe6mPcj"
      },
      "execution_count": null,
      "outputs": []
    },
    {
      "cell_type": "markdown",
      "source": [
        "#Data Visualization"
      ],
      "metadata": {
        "id": "SWphQ2YPZ-_N"
      }
    },
    {
      "cell_type": "code",
      "source": [
        "movie_count = []\n",
        "col_names = movie.columns\n",
        "for col_name in col_names:\n",
        "    movie_count.append(movie[col_name].value_counts() [1])\n",
        "    \n",
        "plt.figure(figsize=(10, 8), dpi=80)    \n",
        "plt.bar(col_names, movie_count)"
      ],
      "metadata": {
        "id": "HhBW0eaThgcK"
      },
      "execution_count": null,
      "outputs": []
    },
    {
      "cell_type": "code",
      "source": [
        "cor = movie.corr()\n",
        "sns.heatmap(cor)"
      ],
      "metadata": {
        "id": "BFGlWs-3aF-z"
      },
      "execution_count": null,
      "outputs": []
    },
    {
      "cell_type": "markdown",
      "source": [
        "#Apriori Algorithm for min_support = 0.1"
      ],
      "metadata": {
        "id": "5tpP_Jzhiikp"
      }
    },
    {
      "cell_type": "code",
      "source": [
        "frequent_itemsets1 = apriori(movie, min_support=0.1, use_colnames=True)\n",
        "frequent_itemsets1"
      ],
      "metadata": {
        "id": "JKTAPRqFigFk"
      },
      "execution_count": null,
      "outputs": []
    },
    {
      "cell_type": "code",
      "source": [
        "frequent_itemsets1 = apriori(movie, min_support = 0.1, use_colnames=True)\n",
        "frequent_itemsets1['length'] = frequent_itemsets1['itemsets'].apply(lambda x: len(x))\n",
        "frequent_itemsets1"
      ],
      "metadata": {
        "id": "z2WKw2Dcif5X"
      },
      "execution_count": null,
      "outputs": []
    },
    {
      "cell_type": "markdown",
      "source": [
        "#Rules when min_support = 0.1 and min_threshold for lift is 0.5"
      ],
      "metadata": {
        "id": "h08ljxKoi8e8"
      }
    },
    {
      "cell_type": "code",
      "source": [
        "rules1 = association_rules(frequent_itemsets1, metric=\"lift\", min_threshold=1)\n",
        "rules1"
      ],
      "metadata": {
        "id": "98boVzNKifhZ"
      },
      "execution_count": null,
      "outputs": []
    },
    {
      "cell_type": "code",
      "source": [
        "rules1 = association_rules(frequent_itemsets1, metric =\"lift\", min_threshold = 1)\n",
        "rules1 = rules1.sort_values(['confidence', 'lift'], ascending =[False, False])\n",
        "rules1"
      ],
      "metadata": {
        "id": "NctqkeW3i-t6"
      },
      "execution_count": null,
      "outputs": []
    },
    {
      "cell_type": "code",
      "source": [
        "plt.scatter(rules1['support'], rules1['confidence'], alpha=0.5)\n",
        "plt.xlabel('support')\n",
        "plt.ylabel('confidence')\n",
        "plt.title('Support vs Confidence')\n",
        "plt.show()"
      ],
      "metadata": {
        "id": "cl5Lpt2ujFZg"
      },
      "execution_count": null,
      "outputs": []
    },
    {
      "cell_type": "markdown",
      "source": [
        "Rules when min_support = 0.1 and min_threshold for confidence is 0.5"
      ],
      "metadata": {
        "id": "jN82CJM6jSd4"
      }
    },
    {
      "cell_type": "code",
      "source": [
        "rules2 = association_rules(frequent_itemsets1, metric=\"confidence\", min_threshold=0.5)\n",
        "rules2"
      ],
      "metadata": {
        "id": "RnIazwZhjJFs"
      },
      "execution_count": null,
      "outputs": []
    },
    {
      "cell_type": "code",
      "source": [
        "rules2 = rules2.sort_values(['confidence', 'lift'], ascending =[False, False])\n",
        "rules2"
      ],
      "metadata": {
        "id": "xsbIWslZjUax"
      },
      "execution_count": null,
      "outputs": []
    },
    {
      "cell_type": "code",
      "source": [
        "plt.scatter(rules2['support'], rules2['confidence'], alpha=0.5)\n",
        "plt.xlabel('support')\n",
        "plt.ylabel('confidence')\n",
        "plt.title('Support vs Confidence')\n",
        "plt.show()"
      ],
      "metadata": {
        "id": "42vC8X3gjbjn"
      },
      "execution_count": null,
      "outputs": []
    },
    {
      "cell_type": "markdown",
      "source": [
        "Apriori Algorithm for min_support = 0.2"
      ],
      "metadata": {
        "id": "gHhDGMqPjtN7"
      }
    },
    {
      "cell_type": "code",
      "source": [
        "frequent_itemsets2 = apriori(movie, min_support=0.2, use_colnames=True)\n",
        "frequent_itemsets2"
      ],
      "metadata": {
        "id": "-3dh0bPtjfXd"
      },
      "execution_count": null,
      "outputs": []
    },
    {
      "cell_type": "code",
      "source": [
        "frequent_itemsets2 = apriori(movie, min_support = 0.2, use_colnames=True)\n",
        "frequent_itemsets2['length'] = frequent_itemsets2['itemsets'].apply(lambda x: len(x))\n",
        "frequent_itemsets2"
      ],
      "metadata": {
        "id": "F87UkTSsjrn-"
      },
      "execution_count": null,
      "outputs": []
    },
    {
      "cell_type": "markdown",
      "source": [
        "Rules when min_support = 0.2 and min_threshold for lift is 0.5"
      ],
      "metadata": {
        "id": "nKCfwYrLkMz4"
      }
    },
    {
      "cell_type": "code",
      "source": [
        "rules3 = association_rules(frequent_itemsets2, metric=\"lift\", min_threshold=0.1)\n",
        "rules3"
      ],
      "metadata": {
        "id": "6qBa2ayKj2i5"
      },
      "execution_count": null,
      "outputs": []
    },
    {
      "cell_type": "code",
      "source": [
        "plt.scatter(rules3['support'], rules3['confidence'], alpha=0.5)\n",
        "plt.xlabel('support')\n",
        "plt.ylabel('confidence')\n",
        "plt.title('Support vs Confidence')\n",
        "plt.show()"
      ],
      "metadata": {
        "id": "aBOdXY3ckOfY"
      },
      "execution_count": null,
      "outputs": []
    },
    {
      "cell_type": "markdown",
      "source": [
        "Rules when min_support = 0.1 and min_threshold for confidence is 0.5"
      ],
      "metadata": {
        "id": "Z8xjG0PQkiQ6"
      }
    },
    {
      "cell_type": "code",
      "source": [
        "rules4 = association_rules(frequent_itemsets2, metric=\"confidence\", min_threshold=0.5)\n",
        "rules4"
      ],
      "metadata": {
        "id": "uXluZROVkcpT"
      },
      "execution_count": null,
      "outputs": []
    },
    {
      "cell_type": "code",
      "source": [
        "rules4 = rules4.sort_values(['confidence', 'lift'], ascending =[False, False])\n",
        "rules4"
      ],
      "metadata": {
        "id": "AAmSPQabkkGg"
      },
      "execution_count": null,
      "outputs": []
    },
    {
      "cell_type": "code",
      "source": [
        "plt.scatter(rules4['support'], rules4['confidence'], alpha=0.5)\n",
        "plt.xlabel('support')\n",
        "plt.ylabel('confidence')\n",
        "plt.title('Support vs Confidence')\n",
        "plt.show()"
      ],
      "metadata": {
        "id": "Rq-768Buknq3"
      },
      "execution_count": null,
      "outputs": []
    },
    {
      "cell_type": "code",
      "source": [
        ""
      ],
      "metadata": {
        "id": "MZpMPyttkrda"
      },
      "execution_count": null,
      "outputs": []
    }
  ]
}