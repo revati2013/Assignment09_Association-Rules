{
  "nbformat": 4,
  "nbformat_minor": 0,
  "metadata": {
    "colab": {
      "name": "Assign09_2.ipynb",
      "provenance": [],
      "authorship_tag": "ABX9TyOl/8J1V8VgWGMOtRFqXQZo",
      "include_colab_link": true
    },
    "kernelspec": {
      "name": "python3",
      "display_name": "Python 3"
    },
    "language_info": {
      "name": "python"
    }
  },
  "cells": [
    {
      "cell_type": "markdown",
      "metadata": {
        "id": "view-in-github",
        "colab_type": "text"
      },
      "source": [
        "<a href=\"https://colab.research.google.com/github/revati2013/Assignment09_Association-Rules/blob/main/Assign09_2.ipynb\" target=\"_parent\"><img src=\"https://colab.research.google.com/assets/colab-badge.svg\" alt=\"Open In Colab\"/></a>"
      ]
    },
    {
      "cell_type": "code",
      "execution_count": null,
      "metadata": {
        "id": "x6NfamO0LtiN"
      },
      "outputs": [],
      "source": [
        "# Import Libraries\n",
        "import pandas as pd\n",
        "import numpy as np\n",
        "import matplotlib.pyplot as plt\n",
        "import seaborn as sns\n",
        "from mlxtend.frequent_patterns import apriori,association_rules\n",
        "from mlxtend.preprocessing import TransactionEncoder"
      ]
    },
    {
      "cell_type": "code",
      "source": [
        "data=pd.read_csv('book.csv' ,encoding='latin-1')"
      ],
      "metadata": {
        "id": "SQtmeNoexB7Y"
      },
      "execution_count": null,
      "outputs": []
    },
    {
      "cell_type": "code",
      "source": [
        "data"
      ],
      "metadata": {
        "id": "3rMYN21ixdu8"
      },
      "execution_count": null,
      "outputs": []
    },
    {
      "cell_type": "code",
      "source": [
        "data.info()"
      ],
      "metadata": {
        "id": "UvytsOVmya-j"
      },
      "execution_count": null,
      "outputs": []
    },
    {
      "cell_type": "code",
      "source": [
        "# Data preprocessing not required as it is already in transaction format"
      ],
      "metadata": {
        "id": "8za2XRbWzcri"
      },
      "execution_count": null,
      "outputs": []
    },
    {
      "cell_type": "markdown",
      "source": [
        "#Apriori Algorithm"
      ],
      "metadata": {
        "id": "5DR30Lxa3fUL"
      }
    },
    {
      "cell_type": "markdown",
      "source": [
        "1. Association rules with 10% Support and 70% confidence"
      ],
      "metadata": {
        "id": "nDBuojZn3hkc"
      }
    },
    {
      "cell_type": "code",
      "source": [
        "# With 10% Support\n",
        "frequent_itemsets=apriori(data,min_support=0.1,use_colnames=True)\n",
        "frequent_itemsets"
      ],
      "metadata": {
        "id": "TpUHZRU33d7T"
      },
      "execution_count": null,
      "outputs": []
    },
    {
      "cell_type": "code",
      "source": [
        "# with 70% confidence\n",
        "rules=association_rules(frequent_itemsets,metric='lift',min_threshold=0.7)\n",
        "rules"
      ],
      "metadata": {
        "id": "R4KkTPiX3UuJ"
      },
      "execution_count": null,
      "outputs": []
    },
    {
      "cell_type": "code",
      "source": [
        "## A leverage value of 0 indicates independence. Range will be [-1 1]\n",
        "## A high conviction value means that the consequent is highly depending on the antecedent and range [0 inf]"
      ],
      "metadata": {
        "id": "oKv69E4C3xml"
      },
      "execution_count": null,
      "outputs": []
    },
    {
      "cell_type": "code",
      "source": [
        "rules.sort_values('lift',ascending=False)"
      ],
      "metadata": {
        "id": "lACsc5pk35bk"
      },
      "execution_count": null,
      "outputs": []
    },
    {
      "cell_type": "code",
      "source": [
        "# Lift Ratio > 1 is a good influential rule in selecting the associated transactions\n",
        "rules[rules.lift>1]"
      ],
      "metadata": {
        "id": "_lgWTC_D38nx"
      },
      "execution_count": null,
      "outputs": []
    },
    {
      "cell_type": "code",
      "source": [
        "# visualization of obtained rule\n",
        "plt.scatter(rules['support'],rules['confidence'])\n",
        "plt.xlabel('support')\n",
        "plt.ylabel('confidence') \n",
        "plt.show()"
      ],
      "metadata": {
        "id": "BXWeCuG-4BWr"
      },
      "execution_count": null,
      "outputs": []
    },
    {
      "cell_type": "markdown",
      "source": [
        "2. Association rules with 20% Support and 60% confidence"
      ],
      "metadata": {
        "id": "oTUP3xWG4N42"
      }
    },
    {
      "cell_type": "code",
      "source": [
        "# With 20% Support\n",
        "frequent_itemsets2=apriori(data,min_support=0.20,use_colnames=True)\n",
        "frequent_itemsets2\n"
      ],
      "metadata": {
        "id": "obQFDI9G4HUd"
      },
      "execution_count": null,
      "outputs": []
    },
    {
      "cell_type": "code",
      "source": [
        "# With 60% confidence\n",
        "rules2=association_rules(frequent_itemsets2,metric='lift',min_threshold=0.6)\n",
        "rules2"
      ],
      "metadata": {
        "id": "80qt6wBW4Sbi"
      },
      "execution_count": null,
      "outputs": []
    },
    {
      "cell_type": "code",
      "source": [
        "# visualization of obtained rule\n",
        "plt.scatter(rules2['support'],rules2['confidence'])\n",
        "plt.xlabel('support')\n",
        "plt.ylabel('confidence') \n",
        "plt.show()\n"
      ],
      "metadata": {
        "id": "ypuzUnLR4a_E"
      },
      "execution_count": null,
      "outputs": []
    },
    {
      "cell_type": "markdown",
      "source": [
        "3. Association rules with 5% Support and 80% confidence"
      ],
      "metadata": {
        "id": "QEER82oV4lRR"
      }
    },
    {
      "cell_type": "code",
      "source": [
        "# With 5% Support\n",
        "frequent_itemsets3=apriori(data,min_support=0.05,use_colnames=True)\n",
        "frequent_itemsets3"
      ],
      "metadata": {
        "id": "2v6gzcnr4gI1"
      },
      "execution_count": null,
      "outputs": []
    },
    {
      "cell_type": "code",
      "source": [
        "# With 80% confidence\n",
        "rules3=association_rules(frequent_itemsets3,metric='lift',min_threshold=0.8)\n",
        "rules3"
      ],
      "metadata": {
        "id": "AwEgLGkJ4p5A"
      },
      "execution_count": null,
      "outputs": []
    },
    {
      "cell_type": "code",
      "source": [
        "rules3[rules3.lift>1]"
      ],
      "metadata": {
        "id": "bPET-lAn4yJb"
      },
      "execution_count": null,
      "outputs": []
    },
    {
      "cell_type": "code",
      "source": [
        "# visualization of obtained rule\n",
        "plt.scatter(rules3['support'],rules3['confidence'])\n",
        "plt.xlabel('support')\n",
        "plt.ylabel('confidence') \n",
        "plt.show()"
      ],
      "metadata": {
        "id": "_EObAjDo42mI"
      },
      "execution_count": null,
      "outputs": []
    },
    {
      "cell_type": "code",
      "source": [
        ""
      ],
      "metadata": {
        "id": "SzzYOZwq47dQ"
      },
      "execution_count": null,
      "outputs": []
    }
  ]
}