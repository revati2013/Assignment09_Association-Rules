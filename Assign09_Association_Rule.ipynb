{
  "nbformat": 4,
  "nbformat_minor": 0,
  "metadata": {
    "colab": {
      "name": "Assign09-Association Rule.ipynb",
      "provenance": [],
      "collapsed_sections": [],
      "authorship_tag": "ABX9TyNcIwAnRBka3s1A5xftA3aQ",
      "include_colab_link": true
    },
    "kernelspec": {
      "name": "python3",
      "display_name": "Python 3"
    },
    "language_info": {
      "name": "python"
    }
  },
  "cells": [
    {
      "cell_type": "markdown",
      "metadata": {
        "id": "view-in-github",
        "colab_type": "text"
      },
      "source": [
        "<a href=\"https://colab.research.google.com/github/revati2013/Assignment09_Association-Rules/blob/main/Assign09_Association_Rule.ipynb\" target=\"_parent\"><img src=\"https://colab.research.google.com/assets/colab-badge.svg\" alt=\"Open In Colab\"/></a>"
      ]
    },
    {
      "cell_type": "code",
      "execution_count": null,
      "metadata": {
        "id": "i4tp2aPKlUfE"
      },
      "outputs": [],
      "source": [
        "# Import Libraries\n",
        "import pandas as pd\n",
        "import numpy as np\n",
        "import matplotlib.pyplot as plt\n",
        "import seaborn as sns\n",
        "from mlxtend.frequent_patterns import apriori,association_rules\n",
        "from mlxtend.preprocessing import TransactionEncoder"
      ]
    },
    {
      "cell_type": "code",
      "source": [
        "movie=pd.read_csv('my_movies.csv')\n",
        "movie"
      ],
      "metadata": {
        "id": "aeWitQ68lbAk"
      },
      "execution_count": null,
      "outputs": []
    },
    {
      "cell_type": "code",
      "source": [
        "movie.shape"
      ],
      "metadata": {
        "id": "BV7pX0scl4CE"
      },
      "execution_count": null,
      "outputs": []
    },
    {
      "cell_type": "code",
      "source": [
        "movie.info()"
      ],
      "metadata": {
        "id": "JfHtSKq9mL4r"
      },
      "execution_count": null,
      "outputs": []
    },
    {
      "cell_type": "code",
      "source": [
        "movie2=movie.iloc[:,5:]\n",
        "movie2"
      ],
      "metadata": {
        "id": "K8eGXWe6mPcj"
      },
      "execution_count": null,
      "outputs": []
    },
    {
      "cell_type": "markdown",
      "source": [
        "#Apriori Algorithm"
      ],
      "metadata": {
        "id": "2jYHSBWAmbPN"
      }
    },
    {
      "cell_type": "markdown",
      "source": [
        "1. Association rules with 10% Support and 70% confidence"
      ],
      "metadata": {
        "id": "PcG33BC6mfz3"
      }
    },
    {
      "cell_type": "code",
      "source": [
        "# with 10% support\n",
        "frequent_itemsets=apriori(movie2,min_support=0.1,use_colnames=True)\n",
        "frequent_itemsets"
      ],
      "metadata": {
        "id": "HkzXMdmvmVs8"
      },
      "execution_count": null,
      "outputs": []
    },
    {
      "cell_type": "code",
      "source": [
        "# 70% confidence\n",
        "rules=association_rules(frequent_itemsets,metric='lift',min_threshold=0.7)\n",
        "rules"
      ],
      "metadata": {
        "id": "9KYH398FmzR3"
      },
      "execution_count": null,
      "outputs": []
    },
    {
      "cell_type": "code",
      "source": [
        "# Lift Ratio > 1 is a good influential rule in selecting the associated transactions\n",
        "rules[rules.lift>1]"
      ],
      "metadata": {
        "id": "YkTjsQH_m7kT"
      },
      "execution_count": null,
      "outputs": []
    },
    {
      "cell_type": "code",
      "source": [
        "# visualization of obtained rule\n",
        "plt.scatter(rules['support'],rules['confidence'])\n",
        "plt.xlabel('support')\n",
        "plt.ylabel('confidence')\n",
        "plt.show()"
      ],
      "metadata": {
        "id": "NcNa5Xtbm--G"
      },
      "execution_count": null,
      "outputs": []
    },
    {
      "cell_type": "markdown",
      "source": [
        "2. Association rules with 5% Support and 90% confidence"
      ],
      "metadata": {
        "id": "ZEaF5mDBnfF5"
      }
    },
    {
      "cell_type": "code",
      "source": [
        "# with 5% support\n",
        "frequent_itemsets2=apriori(movie2,min_support=0.05,use_colnames=True)\n",
        "frequent_itemsets2"
      ],
      "metadata": {
        "id": "w2w-Et-AnCgh"
      },
      "execution_count": null,
      "outputs": []
    },
    {
      "cell_type": "code",
      "source": [
        "# 90% confidence\n",
        "rules2=association_rules(frequent_itemsets2,metric='lift',min_threshold=0.9)\n",
        "rules2"
      ],
      "metadata": {
        "id": "8mTqWsUEnnhQ"
      },
      "execution_count": null,
      "outputs": []
    },
    {
      "cell_type": "code",
      "source": [
        "# Lift Ratio > 1 is a good influential rule in selecting the associated transactions\n",
        "rules2[rules2.lift>1]"
      ],
      "metadata": {
        "id": "SL6Q-7PvnsWs"
      },
      "execution_count": null,
      "outputs": []
    },
    {
      "cell_type": "code",
      "source": [
        "# visualization of obtained rule\n",
        "plt.scatter(rules2['support'],rules2['confidence'])\n",
        "plt.xlabel('support')\n",
        "plt.ylabel('confidence')\n",
        "plt.show()"
      ],
      "metadata": {
        "id": "DLk_HgOMnyIF"
      },
      "execution_count": null,
      "outputs": []
    },
    {
      "cell_type": "code",
      "source": [
        ""
      ],
      "metadata": {
        "id": "DfRzJewhn2my"
      },
      "execution_count": null,
      "outputs": []
    }
  ]
}